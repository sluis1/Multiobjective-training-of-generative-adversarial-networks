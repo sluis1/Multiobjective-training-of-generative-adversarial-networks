{
 "cells": [
  {
   "cell_type": "code",
   "execution_count": 82,
   "metadata": {},
   "outputs": [],
   "source": [
    "import csv\n",
    "import os\n",
    "from matplotlib import pyplot as plt\n",
    "import numpy as np"
   ]
  },
  {
   "cell_type": "code",
   "execution_count": 83,
   "metadata": {},
   "outputs": [],
   "source": [
    "algorithm = R\"Kons2_E0_weighted/alpha_0.5\"\n",
    "path = R'saved_networks/'\n",
    "\n",
    "# create folder if not exist\n",
    "if not os.path.exists(os.path.normpath(path +'plots')):\n",
    "    os.makedirs(os.path.normpath(path +'plots'))"
   ]
  },
  {
   "cell_type": "code",
   "execution_count": 84,
   "metadata": {},
   "outputs": [
    {
     "name": "stdout",
     "output_type": "stream",
     "text": [
      "1.5763722189352847\n",
      "0.3729201314970851\n",
      "0.642270984876668\n"
     ]
    }
   ],
   "source": [
    "e_altern = []\n",
    "with open(os.path.normpath(path +algorithm+'/saved_errors.csv'), newline='\\n') as csvfile:\n",
    "    reader = csv.reader(csvfile, delimiter=',')\n",
    "    for row in reader:\n",
    "        e_altern.append([float(x) for x in row])\n",
    "\n",
    "# ignore the outlier here    \n",
    "# e_gen_a2= e_altern[0]\n",
    "# for index, elem in enumerate(e_gen_a2):\n",
    "#    if(elem > 1):\n",
    "#        ind = index\n",
    "\n",
    "e_eval = e_altern[2]\n",
    "#e_eval.pop(ind)\n",
    "#e_eval.pop(5)\n",
    "\n",
    "\n",
    "print(np.max(e_eval))\n",
    "print(np.min(e_eval))\n",
    "print(np.mean(e_eval))"
   ]
  }
 ],
 "metadata": {
  "kernelspec": {
   "display_name": "Python 3.9.11 64-bit",
   "language": "python",
   "name": "python3"
  },
  "language_info": {
   "codemirror_mode": {
    "name": "ipython",
    "version": 3
   },
   "file_extension": ".py",
   "mimetype": "text/x-python",
   "name": "python",
   "nbconvert_exporter": "python",
   "pygments_lexer": "ipython3",
   "version": "3.9.11"
  },
  "orig_nbformat": 4,
  "vscode": {
   "interpreter": {
    "hash": "7e11b55361148b6c3db81e2c737cd36da1a961dccb25eb888a6a7c970ac9dd9c"
   }
  }
 },
 "nbformat": 4,
 "nbformat_minor": 2
}
